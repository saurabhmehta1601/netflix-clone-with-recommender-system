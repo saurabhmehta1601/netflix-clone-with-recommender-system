{
 "cells": [
  {
   "cell_type": "code",
   "execution_count": 2,
   "id": "a2d0ce1d",
   "metadata": {},
   "outputs": [],
   "source": [
    "# imports\n",
    "import numpy as np \n",
    "import pandas as pd"
   ]
  },
  {
   "cell_type": "code",
   "execution_count": 3,
   "id": "f38d13a5",
   "metadata": {},
   "outputs": [],
   "source": [
    "# reading csv dataset file\n",
    "movies = pd.read_csv(\"../dataset/tmdb_5000_movies.csv\")\n",
    "credits = pd.read_csv(\"../dataset/tmdb_5000_credits.csv\")"
   ]
  },
  {
   "cell_type": "code",
   "execution_count": 4,
   "id": "ea2e3aa4",
   "metadata": {},
   "outputs": [],
   "source": [
    "# merge csv files\n",
    "movies = movies.merge(credits, on=\"title\" )"
   ]
  },
  {
   "cell_type": "code",
   "execution_count": 5,
   "id": "be545c44",
   "metadata": {},
   "outputs": [],
   "source": [
    "# selecting relevent columns from dataset and removing all other columns\n",
    "\n",
    "## original_language column have more than 90 % movies in eng only( highly imbalanced ) so wont take \n",
    "## original_title can be in different languages ( e.g chinese characters ) so wont take \n",
    "## popularity , release_date , revenue ,  is not selected since creating tags in content based system  wont take numerical columns\n",
    "## tagline can be confusing\n",
    "\n",
    "## irrelevent fields are budget , homepage ,  production_companies , status , spoken_languages\n",
    "\n",
    "# movie_id is for getting movies posters from tmdb website\n",
    "## finally selected columns are movie_id , genres , keywords , title ( always in eng character ) , overview , cast , crew\n",
    "\n",
    "movies = movies[['movie_id','title','overview','genres', 'keywords','cast' , 'crew']]"
   ]
  },
  {
   "cell_type": "code",
   "execution_count": 6,
   "id": "9d4d77bb",
   "metadata": {},
   "outputs": [],
   "source": [
    "# Overview has 3 missing values which is very less so we drop these records\n",
    "movies.dropna( inplace = True )"
   ]
  },
  {
   "cell_type": "code",
   "execution_count": 7,
   "id": "514c92ca",
   "metadata": {},
   "outputs": [
    {
     "data": {
      "text/plain": [
       "0"
      ]
     },
     "execution_count": 7,
     "metadata": {},
     "output_type": "execute_result"
    }
   ],
   "source": [
    "# check duplicated data\n",
    "movies.duplicated().sum()\n",
    "## do nothing since there are no duplicates"
   ]
  },
  {
   "cell_type": "markdown",
   "id": "39db128c",
   "metadata": {},
   "source": [
    "# We create new dataframe with columns : movie_id , title , tags\n",
    "## To create tags add genre , keywords , top 3 from cast and director from crew to  overview to get a paragraph"
   ]
  },
  {
   "cell_type": "code",
   "execution_count": 8,
   "id": "be8789af",
   "metadata": {},
   "outputs": [],
   "source": [
    "import ast \n",
    "\n",
    "# convert to list of genres for a movie record from python dictionary \n",
    "def convertToList(obj):\n",
    "    genres = []\n",
    "    for i in ast.literal_eval(obj):\n",
    "        genres.append(i['name'])\n",
    "    return genres"
   ]
  },
  {
   "cell_type": "code",
   "execution_count": 9,
   "id": "441afe09",
   "metadata": {},
   "outputs": [],
   "source": [
    "movies['genres']  = movies['genres'].apply(convertToList)"
   ]
  },
  {
   "cell_type": "code",
   "execution_count": 10,
   "id": "5ec0c66a",
   "metadata": {},
   "outputs": [
    {
     "data": {
      "text/plain": [
       "0       [Action, Adventure, Fantasy, Science Fiction]\n",
       "1                        [Adventure, Fantasy, Action]\n",
       "2                          [Action, Adventure, Crime]\n",
       "3                    [Action, Crime, Drama, Thriller]\n",
       "4                [Action, Adventure, Science Fiction]\n",
       "                            ...                      \n",
       "4804                        [Action, Crime, Thriller]\n",
       "4805                                [Comedy, Romance]\n",
       "4806               [Comedy, Drama, Romance, TV Movie]\n",
       "4807                                               []\n",
       "4808                                    [Documentary]\n",
       "Name: genres, Length: 4806, dtype: object"
      ]
     },
     "execution_count": 10,
     "metadata": {},
     "output_type": "execute_result"
    }
   ],
   "source": [
    "movies['genres']"
   ]
  },
  {
   "cell_type": "code",
   "execution_count": 11,
   "id": "d7ed5b16",
   "metadata": {},
   "outputs": [],
   "source": [
    "movies['keywords'] = movies['keywords'].apply(convertToList)"
   ]
  },
  {
   "cell_type": "code",
   "execution_count": 12,
   "id": "184c4c3c",
   "metadata": {},
   "outputs": [],
   "source": [
    "# extract top 3 casts\n",
    "def castToList(obj):\n",
    "    casts = []\n",
    "    counter = 1\n",
    "    for i in ast.literal_eval(obj):\n",
    "        if counter > 3:\n",
    "            break ;\n",
    "        casts.append(i['name'])\n",
    "        counter += 1\n",
    "    return casts"
   ]
  },
  {
   "cell_type": "code",
   "execution_count": 13,
   "id": "9746a834",
   "metadata": {},
   "outputs": [],
   "source": [
    "movies['cast'] = movies['cast'].apply(castToList)"
   ]
  },
  {
   "cell_type": "code",
   "execution_count": 14,
   "id": "e776f8a6",
   "metadata": {},
   "outputs": [],
   "source": [
    "# get director\n",
    "def get_director(obj):\n",
    "    L = []\n",
    "    for i in ast.literal_eval(obj) :\n",
    "        if i['job'] == 'Director':\n",
    "            L.append(i['name'])\n",
    "            break;\n",
    "    return L"
   ]
  },
  {
   "cell_type": "code",
   "execution_count": 15,
   "id": "e31bd1b4",
   "metadata": {},
   "outputs": [],
   "source": [
    "movies['crew'] = movies['crew'].apply(get_director)"
   ]
  },
  {
   "cell_type": "code",
   "execution_count": 16,
   "id": "62cf8df2",
   "metadata": {
    "scrolled": true
   },
   "outputs": [],
   "source": [
    "# convert movies overview into array to join with other list columns\n",
    "movies['overview'] = movies['overview'].apply(lambda x: x.split())"
   ]
  },
  {
   "cell_type": "code",
   "execution_count": 17,
   "id": "f59107be",
   "metadata": {},
   "outputs": [],
   "source": [
    "# remove white spaces for tag since Sam Worthington is 2 tags and Sam Mendes is also two tags sam is common \n",
    "# but it refers to different person both should be different tags so SamWorthington will be single tag and \n",
    "# SamMendes will be another tag\n",
    "\n",
    "movies['genres'] = movies['genres'].apply(lambda x: [i.replace(\" \", \"\") for i in x])\n",
    "movies['keywords'] = movies['keywords'].apply(lambda x: [i.replace(\" \", \"\") for i in x])\n",
    "movies['cast'] = movies['cast'].apply(lambda x: [i.replace(\" \", \"\") for i in x])\n",
    "movies['crew'] = movies['crew'].apply(lambda x: [i.replace(\" \", \"\") for i in x])"
   ]
  },
  {
   "cell_type": "code",
   "execution_count": 18,
   "id": "37036275",
   "metadata": {},
   "outputs": [],
   "source": [
    "movies['tags'] = movies['overview'] + movies['genres'] + movies['keywords'] + movies['cast'] + movies['crew']"
   ]
  },
  {
   "cell_type": "code",
   "execution_count": 19,
   "id": "651a39a7",
   "metadata": {},
   "outputs": [],
   "source": [
    "new_df = movies[['movie_id', 'title' ,'tags']]"
   ]
  },
  {
   "cell_type": "code",
   "execution_count": 20,
   "id": "e070c0b8",
   "metadata": {},
   "outputs": [
    {
     "name": "stderr",
     "output_type": "stream",
     "text": [
      "C:\\Users\\saura\\AppData\\Local\\Temp\\ipykernel_16420\\3190011309.py:2: SettingWithCopyWarning: \n",
      "A value is trying to be set on a copy of a slice from a DataFrame.\n",
      "Try using .loc[row_indexer,col_indexer] = value instead\n",
      "\n",
      "See the caveats in the documentation: https://pandas.pydata.org/pandas-docs/stable/user_guide/indexing.html#returning-a-view-versus-a-copy\n",
      "  new_df['tags'] = new_df['tags'].apply(lambda x: \" \".join(x))\n"
     ]
    }
   ],
   "source": [
    "# convert list to string\n",
    "new_df['tags'] = new_df['tags'].apply(lambda x: \" \".join(x))"
   ]
  },
  {
   "cell_type": "code",
   "execution_count": 21,
   "id": "dbb2a9f7",
   "metadata": {},
   "outputs": [
    {
     "name": "stderr",
     "output_type": "stream",
     "text": [
      "C:\\Users\\saura\\AppData\\Local\\Temp\\ipykernel_16420\\1380776331.py:1: SettingWithCopyWarning: \n",
      "A value is trying to be set on a copy of a slice from a DataFrame.\n",
      "Try using .loc[row_indexer,col_indexer] = value instead\n",
      "\n",
      "See the caveats in the documentation: https://pandas.pydata.org/pandas-docs/stable/user_guide/indexing.html#returning-a-view-versus-a-copy\n",
      "  new_df['tags'] = new_df['tags'].apply(lambda x: x.lower())\n"
     ]
    }
   ],
   "source": [
    "new_df['tags'] = new_df['tags'].apply(lambda x: x.lower())"
   ]
  },
  {
   "cell_type": "code",
   "execution_count": 22,
   "id": "7b766cb6",
   "metadata": {},
   "outputs": [],
   "source": [
    "# apply stemming to text data \n",
    "from nltk.stem.porter import PorterStemmer\n",
    "\n",
    "ps = PorterStemmer()"
   ]
  },
  {
   "cell_type": "code",
   "execution_count": 23,
   "id": "5e6fa744",
   "metadata": {},
   "outputs": [],
   "source": [
    "# function to apply stemming to paragraph\n",
    "def stem(text):\n",
    "    words = []\n",
    "    for word in text.split():\n",
    "        words.append(ps.stem(word))\n",
    "    return \" \".join(words)"
   ]
  },
  {
   "cell_type": "code",
   "execution_count": 24,
   "id": "f4c387ed",
   "metadata": {},
   "outputs": [
    {
     "name": "stderr",
     "output_type": "stream",
     "text": [
      "C:\\Users\\saura\\AppData\\Local\\Temp\\ipykernel_16420\\3213734980.py:1: SettingWithCopyWarning: \n",
      "A value is trying to be set on a copy of a slice from a DataFrame.\n",
      "Try using .loc[row_indexer,col_indexer] = value instead\n",
      "\n",
      "See the caveats in the documentation: https://pandas.pydata.org/pandas-docs/stable/user_guide/indexing.html#returning-a-view-versus-a-copy\n",
      "  new_df['tags'] = new_df['tags'].apply(stem)\n"
     ]
    }
   ],
   "source": [
    "new_df['tags'] = new_df['tags'].apply(stem)"
   ]
  },
  {
   "cell_type": "code",
   "execution_count": 25,
   "id": "e16d4d9d",
   "metadata": {},
   "outputs": [],
   "source": [
    "# convert the text to vector form \n",
    "from sklearn.feature_extraction.text import CountVectorizer\n",
    "cv = CountVectorizer(max_features=5000,stop_words=\"english\")\n",
    "\n",
    "word_vectors = cv.fit_transform(new_df['tags']).toarray()"
   ]
  },
  {
   "cell_type": "code",
   "execution_count": 26,
   "id": "029bd06c",
   "metadata": {},
   "outputs": [],
   "source": [
    "# using cosine similarity to find similarity between word vectors\n",
    "from sklearn.metrics.pairwise import cosine_similarity\n",
    "similarity_metrix = cosine_similarity(word_vectors)"
   ]
  },
  {
   "cell_type": "code",
   "execution_count": 27,
   "id": "9ae18aeb",
   "metadata": {},
   "outputs": [],
   "source": [
    "import re\n",
    "def tranform_movie_title(movie_name):\n",
    "    return re.sub(r\"[^a-zA-Z0-9]\" , \"\" , movie_name ).lower()"
   ]
  },
  {
   "cell_type": "code",
   "execution_count": 28,
   "id": "5520a13c",
   "metadata": {},
   "outputs": [],
   "source": [
    "# gives 5 movies id for given movie title\n",
    "\n",
    "def recommend(movie_title):\n",
    "    movie_title =  tranform_movie_title(movie_title)\n",
    "    \n",
    "    movie_title = movie_title\n",
    "    movie_idx = new_df[  new_df['title'].apply(tranform_movie_title) == movie_title]\n",
    "    if len(movie_idx.values) == 0:\n",
    "        return []\n",
    "    \n",
    "    distances = similarity_metrix[movie_idx.index[0]]\n",
    "    movies_list = sorted(list(enumerate(distances)), reverse=True , key=lambda x: x[1] )[1: 6]\n",
    "    \n",
    "    recommended_movies = []\n",
    "    for movie in movies_list:\n",
    "        recommended_movie = new_df.iloc[movie[0]]\n",
    "        recommended_movies.append({ \"id\" :  recommended_movie['movie_id'], \"title\" : recommended_movie['title'] })\n",
    "       \n",
    "    return recommended_movies\n"
   ]
  },
  {
   "cell_type": "code",
   "execution_count": 29,
   "id": "dd256814",
   "metadata": {},
   "outputs": [
    {
     "data": {
      "text/plain": [
       "[{'id': 2661, 'title': 'Batman'},\n",
       " {'id': 415, 'title': 'Batman & Robin'},\n",
       " {'id': 272, 'title': 'Batman Begins'},\n",
       " {'id': 364, 'title': 'Batman Returns'},\n",
       " {'id': 36825, 'title': 'The R.M.'}]"
      ]
     },
     "execution_count": 29,
     "metadata": {},
     "output_type": "execute_result"
    }
   ],
   "source": [
    "recommend(\"Batman\")"
   ]
  }
 ],
 "metadata": {
  "kernelspec": {
   "display_name": "Python 3.9.12 ('base')",
   "language": "python",
   "name": "python3"
  },
  "language_info": {
   "codemirror_mode": {
    "name": "ipython",
    "version": 3
   },
   "file_extension": ".py",
   "mimetype": "text/x-python",
   "name": "python",
   "nbconvert_exporter": "python",
   "pygments_lexer": "ipython3",
   "version": "3.9.12"
  },
  "vscode": {
   "interpreter": {
    "hash": "78f038e8efdcae2a2a1667408cc938b10f4c1812010b8d1912433499f5648b86"
   }
  }
 },
 "nbformat": 4,
 "nbformat_minor": 5
}
